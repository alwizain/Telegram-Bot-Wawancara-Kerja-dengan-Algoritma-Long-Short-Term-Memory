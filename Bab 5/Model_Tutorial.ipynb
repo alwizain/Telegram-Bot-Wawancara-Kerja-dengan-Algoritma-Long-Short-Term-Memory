{
  "nbformat": 4,
  "nbformat_minor": 0,
  "metadata": {
    "colab": {
      "provenance": []
    },
    "kernelspec": {
      "name": "python3",
      "display_name": "Python 3"
    },
    "language_info": {
      "name": "python"
    }
  },
  "cells": [
    {
      "cell_type": "markdown",
      "source": [
        "# Import Library"
      ],
      "metadata": {
        "id": "W0mHktsRBZnE"
      }
    },
    {
      "cell_type": "code",
      "execution_count": null,
      "metadata": {
        "id": "57rLEGJlA13z"
      },
      "outputs": [],
      "source": [
        "# Digunakan untuk pengolahan data dengan bahasa manusia\n",
        "import nltk\n",
        "# Digunakan untuk membantu proses lematisasi\n",
        "from nltk.stem import WordNetLemmatizer\n",
        "lemmatizer = WordNetLemmatizer()\n",
        "# Digunakan untuk membaca file JSON\n",
        "import json \n",
        "# Digunakan untuk menyimpan dan membaca data ke dalam atau dari suatu file berformat .pkl.\n",
        "import pickle\n",
        "# Digunakan untuk perhitungan numerik\n",
        "import numpy as np \n",
        "# Digunakan untuk membaca dataset dan mengubahnya ke Pandas Dataframe\n",
        "import pandas as pd\n",
        "# Digunakan untuk komputasi numerik dengan menggunakan machine learning, deep learning, atau neural network\n",
        "import tensorflow as tf \n",
        "# Digunakan untuk menampung model\n",
        "from tensorflow.keras.models import Model\n",
        "# Membantu proses memecah string menjadi token.\n",
        "from tensorflow.keras.preprocessing.text import Tokenizer\n",
        "# Digunakan untuk mengisi urutan vektor dengan panjang yang sama\n",
        "from tensorflow.keras.preprocessing.sequence import pad_sequences \n",
        "# Mengekstrak dan menggunakannya untuk pengkodean data\n",
        "from sklearn.preprocessing import LabelEncoder \n",
        "from keras.models import Sequential\n",
        "# Input digunakan masuk ke jaringan lapisan berikutnya. Embedding mempresentasikan kata menjadi sebuah vektor. Lstm metode arsitektur (RNN) yang biasa digunakan DL\n",
        "from keras.layers import Input,Flatten,LSTM,Embedding,Dense\n",
        "# Digunakan sebagai mode loss\n",
        "from tensorflow.keras.losses import CategoricalCrossentropy\n",
        "# Digunakan untuk visualisasi\n",
        "import matplotlib.pyplot as plt \n",
        "# Digunakan untuk membantu proses stopwords\n",
        "from nltk.corpus import stopwords\n",
        "# Digunakan untuk melakukan random angka\n",
        "import random\n",
        "# Digunakan untuk membantu mengubah data kebentuk categorical\n",
        "from tensorflow.keras.utils import to_categorical\n",
        "import re"
      ]
    },
    {
      "cell_type": "markdown",
      "source": [
        "## Download Package"
      ],
      "metadata": {
        "id": "zHK19-wECo5r"
      }
    },
    {
      "cell_type": "code",
      "source": [
        "# Package stopwords\n",
        "nltk.download('stopwords')"
      ],
      "metadata": {
        "colab": {
          "base_uri": "https://localhost:8080/"
        },
        "id": "uCMdCqi0CnyG",
        "outputId": "28ffc632-f440-439a-ad68-685469b5e42b"
      },
      "execution_count": null,
      "outputs": [
        {
          "output_type": "stream",
          "name": "stderr",
          "text": [
            "[nltk_data] Downloading package stopwords to /root/nltk_data...\n",
            "[nltk_data]   Unzipping corpora/stopwords.zip.\n"
          ]
        },
        {
          "output_type": "execute_result",
          "data": {
            "text/plain": [
              "True"
            ]
          },
          "metadata": {},
          "execution_count": 2
        }
      ]
    },
    {
      "cell_type": "code",
      "source": [
        "# Package sentence tokenizer\n",
        "nltk.download('punkt')"
      ],
      "metadata": {
        "colab": {
          "base_uri": "https://localhost:8080/"
        },
        "id": "vitQE-UUCuvq",
        "outputId": "dda8b5aa-c3b1-473d-e8f0-3c68c2e8397f"
      },
      "execution_count": null,
      "outputs": [
        {
          "output_type": "stream",
          "name": "stderr",
          "text": [
            "[nltk_data] Downloading package punkt to /root/nltk_data...\n",
            "[nltk_data]   Unzipping tokenizers/punkt.zip.\n"
          ]
        },
        {
          "output_type": "execute_result",
          "data": {
            "text/plain": [
              "True"
            ]
          },
          "metadata": {},
          "execution_count": 3
        }
      ]
    },
    {
      "cell_type": "code",
      "source": [
        "# Package lemmatization\n",
        "nltk.download('wordnet')"
      ],
      "metadata": {
        "colab": {
          "base_uri": "https://localhost:8080/"
        },
        "id": "UJTWJn4RCzeB",
        "outputId": "8fb019d6-754c-44ce-8195-74cc21db62f6"
      },
      "execution_count": null,
      "outputs": [
        {
          "output_type": "stream",
          "name": "stderr",
          "text": [
            "[nltk_data] Downloading package wordnet to /root/nltk_data...\n"
          ]
        },
        {
          "output_type": "execute_result",
          "data": {
            "text/plain": [
              "True"
            ]
          },
          "metadata": {},
          "execution_count": 4
        }
      ]
    },
    {
      "cell_type": "code",
      "source": [
        "# Package multilingual wordnet data\n",
        "nltk.download('omw-1.4')"
      ],
      "metadata": {
        "colab": {
          "base_uri": "https://localhost:8080/"
        },
        "id": "hlHbuDscDHLx",
        "outputId": "3a8afe7b-b6dc-4466-ce49-2e2e6b48b01b"
      },
      "execution_count": null,
      "outputs": [
        {
          "output_type": "stream",
          "name": "stderr",
          "text": [
            "[nltk_data] Downloading package omw-1.4 to /root/nltk_data...\n"
          ]
        },
        {
          "output_type": "execute_result",
          "data": {
            "text/plain": [
              "True"
            ]
          },
          "metadata": {},
          "execution_count": 5
        }
      ]
    },
    {
      "cell_type": "markdown",
      "source": [
        "# Load Dataset"
      ],
      "metadata": {
        "id": "QWcdOATLDL74"
      }
    },
    {
      "cell_type": "code",
      "source": [
        "# Data tag\n",
        "tags = []\n",
        "# Data input atau pattern\n",
        "inputs = []\n",
        "# Data respon\n",
        "responses = {}\n",
        "# Data kata\n",
        "words=[] \n",
        "# Data Kelas atau Tag\n",
        "classes = [] \n",
        "# Data Kalimat Dokumen\n",
        "documents = [] \n",
        "# Mengabaikan tanda spesial karakter\n",
        "ignore_words = ['?', '!'] \n",
        "\n",
        "# Melakukan import dataset\n",
        "data_file = open('intents.json').read()\n",
        "intents = json.loads(data_file)"
      ],
      "metadata": {
        "id": "I5oSTNTNDPMB"
      },
      "execution_count": null,
      "outputs": []
    },
    {
      "cell_type": "code",
      "source": [
        "for intent in intents['intents']:\n",
        "  responses[intent['tag']]=intent['responses']\n",
        "  for lines in intent['patterns']:\n",
        "    inputs.append(lines)\n",
        "    tags.append(intent['tag'])\n",
        "    for pattern in intent['patterns']:\n",
        "        #tokenize each word\n",
        "        w = nltk.word_tokenize(pattern)\n",
        "        words.extend(w)\n",
        "        #add documents in the corpus\n",
        "        documents.append((w, intent['tag']))\n",
        "        # add to our classes list\n",
        "        if intent['tag'] not in classes:\n",
        "            classes.append(intent['tag'])\n",
        "\n",
        "df= pd.DataFrame({\"patterns\":inputs, \"tags\":tags})\n",
        "df"
      ],
      "metadata": {
        "colab": {
          "base_uri": "https://localhost:8080/",
          "height": 423
        },
        "id": "TN6CWs8ZD-1W",
        "outputId": "1126390b-6f4c-4b8d-b68f-4591014fd8d4"
      },
      "execution_count": null,
      "outputs": [
        {
          "output_type": "execute_result",
          "data": {
            "text/plain": [
              "                         patterns     tags\n",
              "0      hai salam kenal, nama saya    salam\n",
              "1                            haii    salam\n",
              "2                             hei    salam\n",
              "3                            halo    salam\n",
              "4                           hello    salam\n",
              "..                            ...      ...\n",
              "91  Selamat Tinggal, terima kasih  penutup\n",
              "92              Dah, sampai jumpa  penutup\n",
              "93             Daah, terima kasih  penutup\n",
              "94     Semoga harimu menyenangkan  penutup\n",
              "95                     Ok makasih  penutup\n",
              "\n",
              "[96 rows x 2 columns]"
            ],
            "text/html": [
              "\n",
              "  <div id=\"df-f8d3bd2b-dabd-410d-8287-f57ea5eced3d\">\n",
              "    <div class=\"colab-df-container\">\n",
              "      <div>\n",
              "<style scoped>\n",
              "    .dataframe tbody tr th:only-of-type {\n",
              "        vertical-align: middle;\n",
              "    }\n",
              "\n",
              "    .dataframe tbody tr th {\n",
              "        vertical-align: top;\n",
              "    }\n",
              "\n",
              "    .dataframe thead th {\n",
              "        text-align: right;\n",
              "    }\n",
              "</style>\n",
              "<table border=\"1\" class=\"dataframe\">\n",
              "  <thead>\n",
              "    <tr style=\"text-align: right;\">\n",
              "      <th></th>\n",
              "      <th>patterns</th>\n",
              "      <th>tags</th>\n",
              "    </tr>\n",
              "  </thead>\n",
              "  <tbody>\n",
              "    <tr>\n",
              "      <th>0</th>\n",
              "      <td>hai salam kenal, nama saya</td>\n",
              "      <td>salam</td>\n",
              "    </tr>\n",
              "    <tr>\n",
              "      <th>1</th>\n",
              "      <td>haii</td>\n",
              "      <td>salam</td>\n",
              "    </tr>\n",
              "    <tr>\n",
              "      <th>2</th>\n",
              "      <td>hei</td>\n",
              "      <td>salam</td>\n",
              "    </tr>\n",
              "    <tr>\n",
              "      <th>3</th>\n",
              "      <td>halo</td>\n",
              "      <td>salam</td>\n",
              "    </tr>\n",
              "    <tr>\n",
              "      <th>4</th>\n",
              "      <td>hello</td>\n",
              "      <td>salam</td>\n",
              "    </tr>\n",
              "    <tr>\n",
              "      <th>...</th>\n",
              "      <td>...</td>\n",
              "      <td>...</td>\n",
              "    </tr>\n",
              "    <tr>\n",
              "      <th>91</th>\n",
              "      <td>Selamat Tinggal, terima kasih</td>\n",
              "      <td>penutup</td>\n",
              "    </tr>\n",
              "    <tr>\n",
              "      <th>92</th>\n",
              "      <td>Dah, sampai jumpa</td>\n",
              "      <td>penutup</td>\n",
              "    </tr>\n",
              "    <tr>\n",
              "      <th>93</th>\n",
              "      <td>Daah, terima kasih</td>\n",
              "      <td>penutup</td>\n",
              "    </tr>\n",
              "    <tr>\n",
              "      <th>94</th>\n",
              "      <td>Semoga harimu menyenangkan</td>\n",
              "      <td>penutup</td>\n",
              "    </tr>\n",
              "    <tr>\n",
              "      <th>95</th>\n",
              "      <td>Ok makasih</td>\n",
              "      <td>penutup</td>\n",
              "    </tr>\n",
              "  </tbody>\n",
              "</table>\n",
              "<p>96 rows × 2 columns</p>\n",
              "</div>\n",
              "      <button class=\"colab-df-convert\" onclick=\"convertToInteractive('df-f8d3bd2b-dabd-410d-8287-f57ea5eced3d')\"\n",
              "              title=\"Convert this dataframe to an interactive table.\"\n",
              "              style=\"display:none;\">\n",
              "        \n",
              "  <svg xmlns=\"http://www.w3.org/2000/svg\" height=\"24px\"viewBox=\"0 0 24 24\"\n",
              "       width=\"24px\">\n",
              "    <path d=\"M0 0h24v24H0V0z\" fill=\"none\"/>\n",
              "    <path d=\"M18.56 5.44l.94 2.06.94-2.06 2.06-.94-2.06-.94-.94-2.06-.94 2.06-2.06.94zm-11 1L8.5 8.5l.94-2.06 2.06-.94-2.06-.94L8.5 2.5l-.94 2.06-2.06.94zm10 10l.94 2.06.94-2.06 2.06-.94-2.06-.94-.94-2.06-.94 2.06-2.06.94z\"/><path d=\"M17.41 7.96l-1.37-1.37c-.4-.4-.92-.59-1.43-.59-.52 0-1.04.2-1.43.59L10.3 9.45l-7.72 7.72c-.78.78-.78 2.05 0 2.83L4 21.41c.39.39.9.59 1.41.59.51 0 1.02-.2 1.41-.59l7.78-7.78 2.81-2.81c.8-.78.8-2.07 0-2.86zM5.41 20L4 18.59l7.72-7.72 1.47 1.35L5.41 20z\"/>\n",
              "  </svg>\n",
              "      </button>\n",
              "      \n",
              "  <style>\n",
              "    .colab-df-container {\n",
              "      display:flex;\n",
              "      flex-wrap:wrap;\n",
              "      gap: 12px;\n",
              "    }\n",
              "\n",
              "    .colab-df-convert {\n",
              "      background-color: #E8F0FE;\n",
              "      border: none;\n",
              "      border-radius: 50%;\n",
              "      cursor: pointer;\n",
              "      display: none;\n",
              "      fill: #1967D2;\n",
              "      height: 32px;\n",
              "      padding: 0 0 0 0;\n",
              "      width: 32px;\n",
              "    }\n",
              "\n",
              "    .colab-df-convert:hover {\n",
              "      background-color: #E2EBFA;\n",
              "      box-shadow: 0px 1px 2px rgba(60, 64, 67, 0.3), 0px 1px 3px 1px rgba(60, 64, 67, 0.15);\n",
              "      fill: #174EA6;\n",
              "    }\n",
              "\n",
              "    [theme=dark] .colab-df-convert {\n",
              "      background-color: #3B4455;\n",
              "      fill: #D2E3FC;\n",
              "    }\n",
              "\n",
              "    [theme=dark] .colab-df-convert:hover {\n",
              "      background-color: #434B5C;\n",
              "      box-shadow: 0px 1px 3px 1px rgba(0, 0, 0, 0.15);\n",
              "      filter: drop-shadow(0px 1px 2px rgba(0, 0, 0, 0.3));\n",
              "      fill: #FFFFFF;\n",
              "    }\n",
              "  </style>\n",
              "\n",
              "      <script>\n",
              "        const buttonEl =\n",
              "          document.querySelector('#df-f8d3bd2b-dabd-410d-8287-f57ea5eced3d button.colab-df-convert');\n",
              "        buttonEl.style.display =\n",
              "          google.colab.kernel.accessAllowed ? 'block' : 'none';\n",
              "\n",
              "        async function convertToInteractive(key) {\n",
              "          const element = document.querySelector('#df-f8d3bd2b-dabd-410d-8287-f57ea5eced3d');\n",
              "          const dataTable =\n",
              "            await google.colab.kernel.invokeFunction('convertToInteractive',\n",
              "                                                     [key], {});\n",
              "          if (!dataTable) return;\n",
              "\n",
              "          const docLinkHtml = 'Like what you see? Visit the ' +\n",
              "            '<a target=\"_blank\" href=https://colab.research.google.com/notebooks/data_table.ipynb>data table notebook</a>'\n",
              "            + ' to learn more about interactive tables.';\n",
              "          element.innerHTML = '';\n",
              "          dataTable['output_type'] = 'display_data';\n",
              "          await google.colab.output.renderOutput(dataTable, element);\n",
              "          const docLink = document.createElement('div');\n",
              "          docLink.innerHTML = docLinkHtml;\n",
              "          element.appendChild(docLink);\n",
              "        }\n",
              "      </script>\n",
              "    </div>\n",
              "  </div>\n",
              "  "
            ]
          },
          "metadata": {},
          "execution_count": 7
        }
      ]
    },
    {
      "cell_type": "markdown",
      "source": [
        "# Preprocessing Data"
      ],
      "metadata": {
        "id": "qRht0TGhFMHj"
      }
    },
    {
      "cell_type": "markdown",
      "source": [
        "### Remove Punctutation"
      ],
      "metadata": {
        "id": "OO0ZIIWKFSRu"
      }
    },
    {
      "cell_type": "code",
      "source": [
        "# Menghilangkan punktuasi atau tanda baca\n",
        "import string\n",
        "df['patterns'] = df['patterns'].apply(lambda sequence:\n",
        "                                            [ltrs.lower() for ltrs in sequence if ltrs not in string.punctuation])\n",
        "df.head()"
      ],
      "metadata": {
        "colab": {
          "base_uri": "https://localhost:8080/",
          "height": 206
        },
        "id": "UzKge9j-FWwS",
        "outputId": "9062a437-47c0-430e-a253-3d094b56a21b"
      },
      "execution_count": null,
      "outputs": [
        {
          "output_type": "execute_result",
          "data": {
            "text/plain": [
              "                                            patterns   tags\n",
              "0  [h, a, i,  , s, a, l, a, m,  , k, e, n, a, l, ...  salam\n",
              "1                                       [h, a, i, i]  salam\n",
              "2                                          [h, e, i]  salam\n",
              "3                                       [h, a, l, o]  salam\n",
              "4                                    [h, e, l, l, o]  salam"
            ],
            "text/html": [
              "\n",
              "  <div id=\"df-7b3ac214-2ee7-47c6-939f-4a26ce8f7965\">\n",
              "    <div class=\"colab-df-container\">\n",
              "      <div>\n",
              "<style scoped>\n",
              "    .dataframe tbody tr th:only-of-type {\n",
              "        vertical-align: middle;\n",
              "    }\n",
              "\n",
              "    .dataframe tbody tr th {\n",
              "        vertical-align: top;\n",
              "    }\n",
              "\n",
              "    .dataframe thead th {\n",
              "        text-align: right;\n",
              "    }\n",
              "</style>\n",
              "<table border=\"1\" class=\"dataframe\">\n",
              "  <thead>\n",
              "    <tr style=\"text-align: right;\">\n",
              "      <th></th>\n",
              "      <th>patterns</th>\n",
              "      <th>tags</th>\n",
              "    </tr>\n",
              "  </thead>\n",
              "  <tbody>\n",
              "    <tr>\n",
              "      <th>0</th>\n",
              "      <td>[h, a, i,  , s, a, l, a, m,  , k, e, n, a, l, ...</td>\n",
              "      <td>salam</td>\n",
              "    </tr>\n",
              "    <tr>\n",
              "      <th>1</th>\n",
              "      <td>[h, a, i, i]</td>\n",
              "      <td>salam</td>\n",
              "    </tr>\n",
              "    <tr>\n",
              "      <th>2</th>\n",
              "      <td>[h, e, i]</td>\n",
              "      <td>salam</td>\n",
              "    </tr>\n",
              "    <tr>\n",
              "      <th>3</th>\n",
              "      <td>[h, a, l, o]</td>\n",
              "      <td>salam</td>\n",
              "    </tr>\n",
              "    <tr>\n",
              "      <th>4</th>\n",
              "      <td>[h, e, l, l, o]</td>\n",
              "      <td>salam</td>\n",
              "    </tr>\n",
              "  </tbody>\n",
              "</table>\n",
              "</div>\n",
              "      <button class=\"colab-df-convert\" onclick=\"convertToInteractive('df-7b3ac214-2ee7-47c6-939f-4a26ce8f7965')\"\n",
              "              title=\"Convert this dataframe to an interactive table.\"\n",
              "              style=\"display:none;\">\n",
              "        \n",
              "  <svg xmlns=\"http://www.w3.org/2000/svg\" height=\"24px\"viewBox=\"0 0 24 24\"\n",
              "       width=\"24px\">\n",
              "    <path d=\"M0 0h24v24H0V0z\" fill=\"none\"/>\n",
              "    <path d=\"M18.56 5.44l.94 2.06.94-2.06 2.06-.94-2.06-.94-.94-2.06-.94 2.06-2.06.94zm-11 1L8.5 8.5l.94-2.06 2.06-.94-2.06-.94L8.5 2.5l-.94 2.06-2.06.94zm10 10l.94 2.06.94-2.06 2.06-.94-2.06-.94-.94-2.06-.94 2.06-2.06.94z\"/><path d=\"M17.41 7.96l-1.37-1.37c-.4-.4-.92-.59-1.43-.59-.52 0-1.04.2-1.43.59L10.3 9.45l-7.72 7.72c-.78.78-.78 2.05 0 2.83L4 21.41c.39.39.9.59 1.41.59.51 0 1.02-.2 1.41-.59l7.78-7.78 2.81-2.81c.8-.78.8-2.07 0-2.86zM5.41 20L4 18.59l7.72-7.72 1.47 1.35L5.41 20z\"/>\n",
              "  </svg>\n",
              "      </button>\n",
              "      \n",
              "  <style>\n",
              "    .colab-df-container {\n",
              "      display:flex;\n",
              "      flex-wrap:wrap;\n",
              "      gap: 12px;\n",
              "    }\n",
              "\n",
              "    .colab-df-convert {\n",
              "      background-color: #E8F0FE;\n",
              "      border: none;\n",
              "      border-radius: 50%;\n",
              "      cursor: pointer;\n",
              "      display: none;\n",
              "      fill: #1967D2;\n",
              "      height: 32px;\n",
              "      padding: 0 0 0 0;\n",
              "      width: 32px;\n",
              "    }\n",
              "\n",
              "    .colab-df-convert:hover {\n",
              "      background-color: #E2EBFA;\n",
              "      box-shadow: 0px 1px 2px rgba(60, 64, 67, 0.3), 0px 1px 3px 1px rgba(60, 64, 67, 0.15);\n",
              "      fill: #174EA6;\n",
              "    }\n",
              "\n",
              "    [theme=dark] .colab-df-convert {\n",
              "      background-color: #3B4455;\n",
              "      fill: #D2E3FC;\n",
              "    }\n",
              "\n",
              "    [theme=dark] .colab-df-convert:hover {\n",
              "      background-color: #434B5C;\n",
              "      box-shadow: 0px 1px 3px 1px rgba(0, 0, 0, 0.15);\n",
              "      filter: drop-shadow(0px 1px 2px rgba(0, 0, 0, 0.3));\n",
              "      fill: #FFFFFF;\n",
              "    }\n",
              "  </style>\n",
              "\n",
              "      <script>\n",
              "        const buttonEl =\n",
              "          document.querySelector('#df-7b3ac214-2ee7-47c6-939f-4a26ce8f7965 button.colab-df-convert');\n",
              "        buttonEl.style.display =\n",
              "          google.colab.kernel.accessAllowed ? 'block' : 'none';\n",
              "\n",
              "        async function convertToInteractive(key) {\n",
              "          const element = document.querySelector('#df-7b3ac214-2ee7-47c6-939f-4a26ce8f7965');\n",
              "          const dataTable =\n",
              "            await google.colab.kernel.invokeFunction('convertToInteractive',\n",
              "                                                     [key], {});\n",
              "          if (!dataTable) return;\n",
              "\n",
              "          const docLinkHtml = 'Like what you see? Visit the ' +\n",
              "            '<a target=\"_blank\" href=https://colab.research.google.com/notebooks/data_table.ipynb>data table notebook</a>'\n",
              "            + ' to learn more about interactive tables.';\n",
              "          element.innerHTML = '';\n",
              "          dataTable['output_type'] = 'display_data';\n",
              "          await google.colab.output.renderOutput(dataTable, element);\n",
              "          const docLink = document.createElement('div');\n",
              "          docLink.innerHTML = docLinkHtml;\n",
              "          element.appendChild(docLink);\n",
              "        }\n",
              "      </script>\n",
              "    </div>\n",
              "  </div>\n",
              "  "
            ]
          },
          "metadata": {},
          "execution_count": 8
        }
      ]
    },
    {
      "cell_type": "code",
      "source": [
        "df['patterns'] = df[\"patterns\"].apply(lambda wrd: ''.join(wrd))\n",
        "df.head()"
      ],
      "metadata": {
        "colab": {
          "base_uri": "https://localhost:8080/",
          "height": 206
        },
        "id": "xXWvLwkhGEnE",
        "outputId": "56afbb82-6faa-42a4-8534-7e8bb64842a0"
      },
      "execution_count": null,
      "outputs": [
        {
          "output_type": "execute_result",
          "data": {
            "text/plain": [
              "                    patterns   tags\n",
              "0  hai salam kenal nama saya  salam\n",
              "1                       haii  salam\n",
              "2                        hei  salam\n",
              "3                       halo  salam\n",
              "4                      hello  salam"
            ],
            "text/html": [
              "\n",
              "  <div id=\"df-e667a168-357a-4b36-b157-a0616c44fbb5\">\n",
              "    <div class=\"colab-df-container\">\n",
              "      <div>\n",
              "<style scoped>\n",
              "    .dataframe tbody tr th:only-of-type {\n",
              "        vertical-align: middle;\n",
              "    }\n",
              "\n",
              "    .dataframe tbody tr th {\n",
              "        vertical-align: top;\n",
              "    }\n",
              "\n",
              "    .dataframe thead th {\n",
              "        text-align: right;\n",
              "    }\n",
              "</style>\n",
              "<table border=\"1\" class=\"dataframe\">\n",
              "  <thead>\n",
              "    <tr style=\"text-align: right;\">\n",
              "      <th></th>\n",
              "      <th>patterns</th>\n",
              "      <th>tags</th>\n",
              "    </tr>\n",
              "  </thead>\n",
              "  <tbody>\n",
              "    <tr>\n",
              "      <th>0</th>\n",
              "      <td>hai salam kenal nama saya</td>\n",
              "      <td>salam</td>\n",
              "    </tr>\n",
              "    <tr>\n",
              "      <th>1</th>\n",
              "      <td>haii</td>\n",
              "      <td>salam</td>\n",
              "    </tr>\n",
              "    <tr>\n",
              "      <th>2</th>\n",
              "      <td>hei</td>\n",
              "      <td>salam</td>\n",
              "    </tr>\n",
              "    <tr>\n",
              "      <th>3</th>\n",
              "      <td>halo</td>\n",
              "      <td>salam</td>\n",
              "    </tr>\n",
              "    <tr>\n",
              "      <th>4</th>\n",
              "      <td>hello</td>\n",
              "      <td>salam</td>\n",
              "    </tr>\n",
              "  </tbody>\n",
              "</table>\n",
              "</div>\n",
              "      <button class=\"colab-df-convert\" onclick=\"convertToInteractive('df-e667a168-357a-4b36-b157-a0616c44fbb5')\"\n",
              "              title=\"Convert this dataframe to an interactive table.\"\n",
              "              style=\"display:none;\">\n",
              "        \n",
              "  <svg xmlns=\"http://www.w3.org/2000/svg\" height=\"24px\"viewBox=\"0 0 24 24\"\n",
              "       width=\"24px\">\n",
              "    <path d=\"M0 0h24v24H0V0z\" fill=\"none\"/>\n",
              "    <path d=\"M18.56 5.44l.94 2.06.94-2.06 2.06-.94-2.06-.94-.94-2.06-.94 2.06-2.06.94zm-11 1L8.5 8.5l.94-2.06 2.06-.94-2.06-.94L8.5 2.5l-.94 2.06-2.06.94zm10 10l.94 2.06.94-2.06 2.06-.94-2.06-.94-.94-2.06-.94 2.06-2.06.94z\"/><path d=\"M17.41 7.96l-1.37-1.37c-.4-.4-.92-.59-1.43-.59-.52 0-1.04.2-1.43.59L10.3 9.45l-7.72 7.72c-.78.78-.78 2.05 0 2.83L4 21.41c.39.39.9.59 1.41.59.51 0 1.02-.2 1.41-.59l7.78-7.78 2.81-2.81c.8-.78.8-2.07 0-2.86zM5.41 20L4 18.59l7.72-7.72 1.47 1.35L5.41 20z\"/>\n",
              "  </svg>\n",
              "      </button>\n",
              "      \n",
              "  <style>\n",
              "    .colab-df-container {\n",
              "      display:flex;\n",
              "      flex-wrap:wrap;\n",
              "      gap: 12px;\n",
              "    }\n",
              "\n",
              "    .colab-df-convert {\n",
              "      background-color: #E8F0FE;\n",
              "      border: none;\n",
              "      border-radius: 50%;\n",
              "      cursor: pointer;\n",
              "      display: none;\n",
              "      fill: #1967D2;\n",
              "      height: 32px;\n",
              "      padding: 0 0 0 0;\n",
              "      width: 32px;\n",
              "    }\n",
              "\n",
              "    .colab-df-convert:hover {\n",
              "      background-color: #E2EBFA;\n",
              "      box-shadow: 0px 1px 2px rgba(60, 64, 67, 0.3), 0px 1px 3px 1px rgba(60, 64, 67, 0.15);\n",
              "      fill: #174EA6;\n",
              "    }\n",
              "\n",
              "    [theme=dark] .colab-df-convert {\n",
              "      background-color: #3B4455;\n",
              "      fill: #D2E3FC;\n",
              "    }\n",
              "\n",
              "    [theme=dark] .colab-df-convert:hover {\n",
              "      background-color: #434B5C;\n",
              "      box-shadow: 0px 1px 3px 1px rgba(0, 0, 0, 0.15);\n",
              "      filter: drop-shadow(0px 1px 2px rgba(0, 0, 0, 0.3));\n",
              "      fill: #FFFFFF;\n",
              "    }\n",
              "  </style>\n",
              "\n",
              "      <script>\n",
              "        const buttonEl =\n",
              "          document.querySelector('#df-e667a168-357a-4b36-b157-a0616c44fbb5 button.colab-df-convert');\n",
              "        buttonEl.style.display =\n",
              "          google.colab.kernel.accessAllowed ? 'block' : 'none';\n",
              "\n",
              "        async function convertToInteractive(key) {\n",
              "          const element = document.querySelector('#df-e667a168-357a-4b36-b157-a0616c44fbb5');\n",
              "          const dataTable =\n",
              "            await google.colab.kernel.invokeFunction('convertToInteractive',\n",
              "                                                     [key], {});\n",
              "          if (!dataTable) return;\n",
              "\n",
              "          const docLinkHtml = 'Like what you see? Visit the ' +\n",
              "            '<a target=\"_blank\" href=https://colab.research.google.com/notebooks/data_table.ipynb>data table notebook</a>'\n",
              "            + ' to learn more about interactive tables.';\n",
              "          element.innerHTML = '';\n",
              "          dataTable['output_type'] = 'display_data';\n",
              "          await google.colab.output.renderOutput(dataTable, element);\n",
              "          const docLink = document.createElement('div');\n",
              "          docLink.innerHTML = docLinkHtml;\n",
              "          element.appendChild(docLink);\n",
              "        }\n",
              "      </script>\n",
              "    </div>\n",
              "  </div>\n",
              "  "
            ]
          },
          "metadata": {},
          "execution_count": 9
        }
      ]
    },
    {
      "cell_type": "markdown",
      "source": [
        "### Lemmatization"
      ],
      "metadata": {
        "id": "ZjyFl2D5Gsh6"
      }
    },
    {
      "cell_type": "code",
      "source": [
        "# lemmatize, lower each word and remove duplicates\n",
        "words = [lemmatizer.lemmatize(w.lower()) for w in words if w not in ignore_words]\n",
        "words = sorted(list(set(words)))\n",
        "\n",
        "# sort classes\n",
        "classes = sorted(list(set(classes)))\n",
        "\n",
        "# documents = combination between patterns and intents\n",
        "print (len(documents), \"documents\")\n",
        "\n",
        "# classes = intents\n",
        "print (len(classes), \"classes\", classes)\n",
        "\n",
        "# words = all words, vocabulary\n",
        "print (len(words), \"unique lemmatized words\", words)"
      ],
      "metadata": {
        "colab": {
          "base_uri": "https://localhost:8080/"
        },
        "id": "1J_JEDxnGvi2",
        "outputId": "72b5f21b-b576-4384-ada6-f76ad3c54ece"
      },
      "execution_count": null,
      "outputs": [
        {
          "output_type": "stream",
          "name": "stdout",
          "text": [
            "610 documents\n",
            "16 classes ['alamat', 'alasan_menerima', 'gaji', 'info_loker', 'kekurangan', 'kelebihan', 'kontribusi', 'nama', 'pendidikan_terakhir', 'pengalaman', 'penutup', 'posisi', 'salam', 'skill', 'tentang_perusahaan', 'umur']\n",
            "242 unique lemmatized words [',', '.', '3', '4', '6', '7', 'adalah', 'agar', 'akan', 'akun', 'anak', 'atas', 'bagi', 'baik', 'bapak', 'bapak/ibu', 'bekerja', 'bekerjasama', 'belakang', 'belum', 'beralamat', 'berdiri', 'berdomisili', 'bergerak', 'berhak', 'berharap', 'berikan', 'berinovasi', 'berkenan', 'berkomitmen', 'berkontribusi', 'beroptimis', 'berpengalaman', 'bertempat', 'berusaha', 'besaran', 'bisa', 'cara', 'cocok', 'coding', 'daah', 'dah', 'dalam', 'dan', 'dapat', 'dari', 'datang', 'dengan', 'di', 'diatas', 'dibawah', 'dibidang', 'dibutuhkan', 'didirikan', 'dihidupi', 'dimiliki', 'diposisi', 'diri', 'disetiap', 'diterima', 'ecommerce', 'efektif', 'etika', 'gaji', 'gigih', 'google', 'hai', 'haii', 'hal', 'halo', 'harap', 'hari', 'harimu', 'harus', 'hei', 'hello', 'hingga', 'iklim', 'individu', 'informasinya', 'ingin', 'inginkan', 'ini', 'integritas', 'itu', 'jaringan', 'jawab', 'jika', 'jobfair', 'jumpa', 'juta', 'karena', 'karna', 'karyawan', 'kasih', 'keahlian', 'kedepannya', 'kejujuran', 'kekurangan', 'kelebihan', 'kelemahan', 'kelompok', 'keluarga', 'kemampuan', 'kenal', 'kepada', 'kera', 'kerja', 'kesalahan', 'kesulitan', 'ketahui', 'keterampilan', 'kinerja', 'kisaran', 'kompensasi', 'komtribusi', 'komunikasi', 'kontribusi', 'koran', 'kreatif', 'kuliah', 'latar', 'lingkungan', 'linkedlln', 'loker', 'lulu', 'lulusan', 'maaf', 'mahasiswa', 'makasih', 'mampu', 'masalah', 'masih', 'maupun', 'medium', 'melalui', 'melamar', 'melihat', 'memajukan', 'memajukna', 'memanjukan', 'membangkitkan', 'memberi', 'memberikan', 'membuat', 'memiliki', 'memperkenalkan', 'mempertimbangkannya', 'mencoba', 'mendapatkan', 'menempuh', 'menemukan', 'menerima', 'mengajukan', 'mengambil', 'mengembangkan', 'mengerjakan', 'mengetahuinya', 'mengoperasikan', 'menjujung', 'menonjol', 'menunda', 'menunda-nunda', 'menyenangkan', 'merangkul', 'merupakan', 'microsoft', 'miliki', 'moral', 'nama', 'ok', 'oleh', 'pada', 'pekerjaan', 'pekerjaannya', 'pendidikan', 'pendiri', 'pengalaman', 'pengembangan', 'penting', 'perguruan', 'perkenalkan', 'pernah', 'persisten', 'pertemanan', 'perusahaan', 'posisi', 'positif', 'prinsip', 'program', 'punya', 'saat', 'salam', 'sampai', 'sangat', 'sarjana', 'saya', 'sebagai', 'sebelumnya', 'sebuah', 'sedang', 'sejak', 'sekarang', 'sekitar', 'sekolah', 'selalu', 'selama', 'selamat', 'semangat', 'semoga', 'seorang', 'serta', 'sesuai', 'setiap', 'situs', 'skill', 'solusi', 'sosial', 'spg', 'standar', 'strategi', 'sudah', 'tahun', 'tanggung', 'tanpa', 'tekanan', 'tentang', 'tepat', 'terbaik', 'terciptanya', 'terima', 'tiap', 'tidak', 'tim', 'tinggal', 'tinggi', 'umr', 'umur', 'untuk', 'waktu', 'yakin', 'yang']\n"
          ]
        }
      ]
    },
    {
      "cell_type": "code",
      "source": [
        "# Menyimpan data words dan classes\n",
        "pickle.dump(words,open('words.pkl','wb'))\n",
        "pickle.dump(classes,open('classes.pkl','wb'))"
      ],
      "metadata": {
        "id": "Iji5fHFLUyvA"
      },
      "execution_count": null,
      "outputs": []
    },
    {
      "cell_type": "markdown",
      "source": [
        "### Tokenization"
      ],
      "metadata": {
        "id": "vgTEpLcHVDud"
      }
    },
    {
      "cell_type": "code",
      "source": [
        "# Melakukan tokenisasi data\n",
        "tokenizer = Tokenizer(num_words=2000)\n",
        "tokenizer.fit_on_texts(df['patterns'])\n",
        "\n",
        "# Mengubah teks kedalam bentuk sequence\n",
        "train = tokenizer.texts_to_sequences(df['patterns'])\n",
        "\n",
        "# Melihat tokenisasi dari setiap kata\n",
        "tokenizer.word_index"
      ],
      "metadata": {
        "colab": {
          "base_uri": "https://localhost:8080/"
        },
        "id": "as-SQUq4VH74",
        "outputId": "84311d72-69eb-4c3f-902f-d051113bf102"
      },
      "execution_count": null,
      "outputs": [
        {
          "output_type": "execute_result",
          "data": {
            "text/plain": [
              "{'saya': 1,\n",
              " 'yang': 2,\n",
              " 'perusahaan': 3,\n",
              " 'adalah': 4,\n",
              " 'di': 5,\n",
              " 'ini': 6,\n",
              " 'dengan': 7,\n",
              " 'dalam': 8,\n",
              " 'memiliki': 9,\n",
              " 'untuk': 10,\n",
              " 'bekerja': 11,\n",
              " 'dapat': 12,\n",
              " 'kemampuan': 13,\n",
              " 'melalui': 14,\n",
              " 'miliki': 15,\n",
              " 'dan': 16,\n",
              " 'mengetahuinya': 17,\n",
              " 'tahun': 18,\n",
              " 'kerja': 19,\n",
              " 'kontribusi': 20,\n",
              " 'baik': 21,\n",
              " 'kelebihan': 22,\n",
              " 'memberikan': 23,\n",
              " 'kekurangan': 24,\n",
              " 'serta': 25,\n",
              " 'berikan': 26,\n",
              " 'diri': 27,\n",
              " 'saat': 28,\n",
              " 'tinggal': 29,\n",
              " 'dari': 30,\n",
              " 'pengalaman': 31,\n",
              " 'berkomitmen': 32,\n",
              " 'harus': 33,\n",
              " 'sebagai': 34,\n",
              " 'spg': 35,\n",
              " 'nama': 36,\n",
              " 'terima': 37,\n",
              " 'kasih': 38,\n",
              " 'umur': 39,\n",
              " 'pendidikan': 40,\n",
              " 'tinggi': 41,\n",
              " 'punya': 42,\n",
              " 'mampu': 43,\n",
              " 'solusi': 44,\n",
              " 'sesuai': 45,\n",
              " 'posisi': 46,\n",
              " 'inginkan': 47,\n",
              " 'media': 48,\n",
              " 'gaji': 49,\n",
              " 'bapakibu': 50,\n",
              " 'tepat': 51,\n",
              " 'menemukan': 52,\n",
              " 'akan': 53,\n",
              " 'sekarang': 54,\n",
              " 'beralamat': 55,\n",
              " 'latar': 56,\n",
              " 'belakang': 57,\n",
              " 'lulusan': 58,\n",
              " 'masih': 59,\n",
              " 'selama': 60,\n",
              " 'sebelumnya': 61,\n",
              " 'maaf': 62,\n",
              " 'tidak': 63,\n",
              " 'belum': 64,\n",
              " 'skill': 65,\n",
              " 'membuat': 66,\n",
              " 'masalah': 67,\n",
              " 'tim': 68,\n",
              " 'kelemahan': 69,\n",
              " 'oleh': 70,\n",
              " 'sudah': 71,\n",
              " 'berdiri': 72,\n",
              " 'sejak': 73,\n",
              " 'menerima': 74,\n",
              " 'karena': 75,\n",
              " 'bisa': 76,\n",
              " 'berkontribusi': 77,\n",
              " 'sangat': 78,\n",
              " 'ingin': 79,\n",
              " 'mengambil': 80,\n",
              " 'diposisi': 81,\n",
              " 'berharap': 82,\n",
              " 'diterima': 83,\n",
              " 'standar': 84,\n",
              " 'hingga': 85,\n",
              " 'juta': 86,\n",
              " 'semoga': 87,\n",
              " 'karyawan': 88,\n",
              " 'kejujuran': 89,\n",
              " 'agar': 90,\n",
              " 'selalu': 91,\n",
              " 'itu': 92,\n",
              " 'keras': 93,\n",
              " 'terbaik': 94,\n",
              " 'bagi': 95,\n",
              " 'datang': 96,\n",
              " 'waktu': 97,\n",
              " 'mengerjakan': 98,\n",
              " 'pekerjaan': 99,\n",
              " 'tanpa': 100,\n",
              " 'sosial': 101,\n",
              " 'hai': 102,\n",
              " 'salam': 103,\n",
              " 'kenal': 104,\n",
              " 'haii': 105,\n",
              " 'hei': 106,\n",
              " 'halo': 107,\n",
              " 'hello': 108,\n",
              " 'perkenalkan': 109,\n",
              " 'memperkenalkan': 110,\n",
              " 'berdomisili': 111,\n",
              " 'bertempat': 112,\n",
              " 'sarjana': 113,\n",
              " 'mahasiswa': 114,\n",
              " 'seorang': 115,\n",
              " 'lulus': 116,\n",
              " 'kuliah': 117,\n",
              " 'menempuh': 118,\n",
              " 'perguruan': 119,\n",
              " 'pernah': 120,\n",
              " 'berpengalaman': 121,\n",
              " 'keahlian': 122,\n",
              " 'mengoperasikan': 123,\n",
              " 'microsoft': 124,\n",
              " 'program': 125,\n",
              " 'coding': 126,\n",
              " 'disetiap': 127,\n",
              " 'membangkitkan': 128,\n",
              " 'semangat': 129,\n",
              " 'merangkul': 130,\n",
              " 'bekerjasama': 131,\n",
              " 'menonjol': 132,\n",
              " 'hal': 133,\n",
              " 'komunikasi': 134,\n",
              " 'kinerja': 135,\n",
              " 'ketahui': 136,\n",
              " 'tentang': 137,\n",
              " 'didirikan': 138,\n",
              " 'pendiri': 139,\n",
              " 'bergerak': 140,\n",
              " 'dibidang': 141,\n",
              " 'ecommerce': 142,\n",
              " 'dibawah': 143,\n",
              " 'tekanan': 144,\n",
              " 'sedang': 145,\n",
              " 'dibutuhkan': 146,\n",
              " 'keluarga': 147,\n",
              " 'dihidupi': 148,\n",
              " 'anak': 149,\n",
              " 'sekolah': 150,\n",
              " 'cocok': 151,\n",
              " 'melamar': 152,\n",
              " 'besaran': 153,\n",
              " 'melihat': 154,\n",
              " 'keterampilan': 155,\n",
              " 'mengajukan': 156,\n",
              " 'kompensasi': 157,\n",
              " 'sekitar': 158,\n",
              " '6': 159,\n",
              " '7': 160,\n",
              " 'berkenan': 161,\n",
              " 'mempertimbangkannya': 162,\n",
              " 'berhak': 163,\n",
              " 'mendapatkan': 164,\n",
              " 'kisaran': 165,\n",
              " '3': 166,\n",
              " '4': 167,\n",
              " 'diatas': 168,\n",
              " 'umr': 169,\n",
              " 'kepada': 170,\n",
              " 'memanjukan': 171,\n",
              " 'cara': 172,\n",
              " 'menjujung': 173,\n",
              " 'integritas': 174,\n",
              " 'karna': 175,\n",
              " 'tanggung': 176,\n",
              " 'jawab': 177,\n",
              " 'merupakan': 178,\n",
              " 'etika': 179,\n",
              " 'moral': 180,\n",
              " 'penting': 181,\n",
              " 'dimiliki': 182,\n",
              " 'setiap': 183,\n",
              " 'terciptanya': 184,\n",
              " 'lingkungan': 185,\n",
              " 'efektif': 186,\n",
              " 'komtribusi': 187,\n",
              " 'berinovasi': 188,\n",
              " 'individu': 189,\n",
              " 'maupun': 190,\n",
              " 'kelompok': 191,\n",
              " 'harap': 192,\n",
              " 'memajukna': 193,\n",
              " 'bapak': 194,\n",
              " 'kedepannya': 195,\n",
              " 'hari': 196,\n",
              " 'menunda': 197,\n",
              " 'berusaha': 198,\n",
              " 'kesalahan': 199,\n",
              " 'tiap': 200,\n",
              " 'pekerjaannya': 201,\n",
              " 'yakin': 202,\n",
              " 'memajukan': 203,\n",
              " 'menundanunda': 204,\n",
              " 'beroptimis': 205,\n",
              " 'gigih': 206,\n",
              " 'atas': 207,\n",
              " 'sebuah': 208,\n",
              " 'jika': 209,\n",
              " 'kesulitan': 210,\n",
              " 'mencoba': 211,\n",
              " 'persisten': 212,\n",
              " 'kreatif': 213,\n",
              " 'prinsip': 214,\n",
              " 'memberi': 215,\n",
              " 'pengembangan': 216,\n",
              " 'iklim': 217,\n",
              " 'positif': 218,\n",
              " 'strategi': 219,\n",
              " 'mengembangkan': 220,\n",
              " 'pada': 221,\n",
              " 'akun': 222,\n",
              " 'loker': 223,\n",
              " 'informasinya': 224,\n",
              " 'situs': 225,\n",
              " 'google': 226,\n",
              " 'jobfair': 227,\n",
              " 'jaringan': 228,\n",
              " 'pertemanan': 229,\n",
              " 'koran': 230,\n",
              " 'linkedlln': 231,\n",
              " 'selamat': 232,\n",
              " 'dah': 233,\n",
              " 'sampai': 234,\n",
              " 'jumpa': 235,\n",
              " 'daah': 236,\n",
              " 'harimu': 237,\n",
              " 'menyenangkan': 238,\n",
              " 'ok': 239,\n",
              " 'makasih': 240}"
            ]
          },
          "metadata": {},
          "execution_count": 14
        }
      ]
    },
    {
      "cell_type": "markdown",
      "source": [
        "### Padding"
      ],
      "metadata": {
        "id": "8wqBDTjbVffF"
      }
    },
    {
      "cell_type": "code",
      "source": [
        "# Melakukan padding agar setiap sequence memiliki panjang yang sama\n",
        "features = pad_sequences(train)\n",
        "\n",
        "# Menampilkan padding Sequences\n",
        "print(features)"
      ],
      "metadata": {
        "colab": {
          "base_uri": "https://localhost:8080/"
        },
        "id": "xrcPthCrVhzb",
        "outputId": "c39fec4c-2218-46f8-bfc7-2591b4c7bd2f"
      },
      "execution_count": null,
      "outputs": [
        {
          "output_type": "stream",
          "name": "stdout",
          "text": [
            "[[  0   0   0 ... 104  36   1]\n",
            " [  0   0   0 ...   0   0 105]\n",
            " [  0   0   0 ...   0   0 106]\n",
            " ...\n",
            " [  0   0   0 ... 236  37  38]\n",
            " [  0   0   0 ...  87 237 238]\n",
            " [  0   0   0 ...   0 239 240]]\n"
          ]
        }
      ]
    },
    {
      "cell_type": "markdown",
      "source": [
        "### Encoding Data"
      ],
      "metadata": {
        "id": "_RHEhwNJV8Nl"
      }
    },
    {
      "cell_type": "code",
      "source": [
        "# Melakukan encoding terhadap output atau label (tag)\n",
        "le = LabelEncoder()\n",
        "labels = le.fit_transform(df['tags'])\n",
        "\n",
        "# Menampilkan Label Encodings\n",
        "print(labels)"
      ],
      "metadata": {
        "colab": {
          "base_uri": "https://localhost:8080/"
        },
        "id": "9KU5lPWgV_UD",
        "outputId": "43196a36-169c-46ea-a9af-ec207f583b2e"
      },
      "execution_count": null,
      "outputs": [
        {
          "output_type": "stream",
          "name": "stdout",
          "text": [
            "[12 12 12 12 12  7  7  7 15 15 15  0  0  0  0  0  0  8  8  8  8  8  8  8\n",
            "  8  9  9  9  9  9  9 13 13 13 13 13 13 13 13  5  5  5  5  5  5  4  4  4\n",
            "  4  4  4  4 14 14 14 14 14 14  1  1  1  1  1  1 11 11 11 11 11 11  2  2\n",
            "  2  2  2  2  6  6  6  6  6  6  6  3  3  3  3  3  3  3  3 10 10 10 10 10]\n"
          ]
        }
      ]
    },
    {
      "cell_type": "code",
      "source": [
        "# Menyimpan proses label encoder dan tokenizer\n",
        "pickle.dump(le, open('le.pkl','wb'))\n",
        "pickle.dump(tokenizer, open('tokenizer.pkl','wb'))"
      ],
      "metadata": {
        "id": "Zj_2XwZ3WuRn"
      },
      "execution_count": null,
      "outputs": []
    },
    {
      "cell_type": "markdown",
      "source": [
        "### Input Output Shape & Vocabulary"
      ],
      "metadata": {
        "id": "_f8cfnUUW88r"
      }
    },
    {
      "cell_type": "code",
      "source": [
        "# Mengetahui panjang maksimal untuk input data\n",
        "input_shape = features.shape[1]\n",
        "print(input_shape)\n",
        "\n",
        "# Mendefinisikan panjang vocabulary\n",
        "vocabulary = len(tokenizer.word_index)\n",
        "print(\"number of unique words : \",vocabulary)\n",
        "\n",
        "# Mendefinisikan panjang output\n",
        "output_length = le.classes_.shape[0]\n",
        "print(\"output length: \",output_length)"
      ],
      "metadata": {
        "colab": {
          "base_uri": "https://localhost:8080/"
        },
        "id": "3wUqQMWwXFhy",
        "outputId": "da1ffb0e-8287-4573-9695-ef629df094ed"
      },
      "execution_count": null,
      "outputs": [
        {
          "output_type": "stream",
          "name": "stdout",
          "text": [
            "44\n",
            "number of unique words :  240\n",
            "output length:  16\n"
          ]
        }
      ]
    },
    {
      "cell_type": "markdown",
      "source": [
        "# Modeling"
      ],
      "metadata": {
        "id": "eHK87oqBXio6"
      }
    },
    {
      "cell_type": "markdown",
      "source": [
        "### Build Model"
      ],
      "metadata": {
        "id": "q_eDhGzZXqeZ"
      }
    },
    {
      "cell_type": "code",
      "source": [
        "# Membuat Modeling\n",
        "model = tf.keras.Sequential()\n",
        "# Layer Input\n",
        "model.add(Input(shape=(input_shape,)))\n",
        "# Layer Embedding\n",
        "model.add(Embedding(vocabulary+1, 16, input_length=(input_shape,)))\n",
        "# Layer Long Short Term Memory\n",
        "model.add(LSTM(10, return_sequences=True))\n",
        "# Layer Flatten\n",
        "model.add(Flatten()) \n",
        "# Layer Dense\n",
        "model.add(Dense(output_length, activation=\"softmax\"))\n",
        "\n",
        "# Compile model\n",
        "model.compile(loss='sparse_categorical_crossentropy', optimizer='adam', metrics=['accuracy'])\n",
        "\n",
        "model.summary()"
      ],
      "metadata": {
        "colab": {
          "base_uri": "https://localhost:8080/"
        },
        "id": "NI65jvjvXxGB",
        "outputId": "0f5b7fc5-3cc2-47f1-c969-6b9465ab9732"
      },
      "execution_count": null,
      "outputs": [
        {
          "output_type": "stream",
          "name": "stdout",
          "text": [
            "Model: \"sequential\"\n",
            "_________________________________________________________________\n",
            " Layer (type)                Output Shape              Param #   \n",
            "=================================================================\n",
            " embedding (Embedding)       (None, 44, 16)            3856      \n",
            "                                                                 \n",
            " lstm (LSTM)                 (None, 44, 10)            1080      \n",
            "                                                                 \n",
            " flatten (Flatten)           (None, 440)               0         \n",
            "                                                                 \n",
            " dense (Dense)               (None, 16)                7056      \n",
            "                                                                 \n",
            "=================================================================\n",
            "Total params: 11,992\n",
            "Trainable params: 11,992\n",
            "Non-trainable params: 0\n",
            "_________________________________________________________________\n"
          ]
        }
      ]
    },
    {
      "cell_type": "markdown",
      "source": [
        "### Train Model"
      ],
      "metadata": {
        "id": "lgvGFvGYYpKG"
      }
    },
    {
      "cell_type": "code",
      "source": [
        "# Untuk melakukan penghentian otomatis pelatihan\n",
        "from keras.callbacks import TensorBoard, EarlyStopping\n",
        "callback = EarlyStopping(monitor = 'loss', patience = 1, mode = 'min', restore_best_weights = True)"
      ],
      "metadata": {
        "id": "AjUY8nmKYr9X"
      },
      "execution_count": null,
      "outputs": []
    },
    {
      "cell_type": "code",
      "source": [
        "train = model.fit(features, labels, epochs=100, callbacks=[callback], verbose=1)"
      ],
      "metadata": {
        "colab": {
          "base_uri": "https://localhost:8080/"
        },
        "id": "TwIW94CnZGCC",
        "outputId": "95542926-2933-450b-fd6a-05b81a522ec8"
      },
      "execution_count": null,
      "outputs": [
        {
          "output_type": "stream",
          "name": "stdout",
          "text": [
            "Epoch 1/100\n",
            "3/3 [==============================] - 2s 21ms/step - loss: 2.7715 - accuracy: 0.0625\n",
            "Epoch 2/100\n",
            "3/3 [==============================] - 0s 16ms/step - loss: 2.7640 - accuracy: 0.1250\n",
            "Epoch 3/100\n",
            "3/3 [==============================] - 0s 15ms/step - loss: 2.7564 - accuracy: 0.1562\n",
            "Epoch 4/100\n",
            "3/3 [==============================] - 0s 14ms/step - loss: 2.7480 - accuracy: 0.1458\n",
            "Epoch 5/100\n",
            "3/3 [==============================] - 0s 15ms/step - loss: 2.7388 - accuracy: 0.1458\n",
            "Epoch 6/100\n",
            "3/3 [==============================] - 0s 16ms/step - loss: 2.7275 - accuracy: 0.1354\n",
            "Epoch 7/100\n",
            "3/3 [==============================] - 0s 15ms/step - loss: 2.7150 - accuracy: 0.1354\n",
            "Epoch 8/100\n",
            "3/3 [==============================] - 0s 16ms/step - loss: 2.7002 - accuracy: 0.1458\n",
            "Epoch 9/100\n",
            "3/3 [==============================] - 0s 14ms/step - loss: 2.6896 - accuracy: 0.1458\n",
            "Epoch 10/100\n",
            "3/3 [==============================] - 0s 15ms/step - loss: 2.6739 - accuracy: 0.1458\n",
            "Epoch 11/100\n",
            "3/3 [==============================] - 0s 16ms/step - loss: 2.6578 - accuracy: 0.1458\n",
            "Epoch 12/100\n",
            "3/3 [==============================] - 0s 15ms/step - loss: 2.6407 - accuracy: 0.1458\n",
            "Epoch 13/100\n",
            "3/3 [==============================] - 0s 19ms/step - loss: 2.6196 - accuracy: 0.1354\n",
            "Epoch 14/100\n",
            "3/3 [==============================] - 0s 14ms/step - loss: 2.5953 - accuracy: 0.1771\n",
            "Epoch 15/100\n",
            "3/3 [==============================] - 0s 15ms/step - loss: 2.5680 - accuracy: 0.2708\n",
            "Epoch 16/100\n",
            "3/3 [==============================] - 0s 16ms/step - loss: 2.5407 - accuracy: 0.2812\n",
            "Epoch 17/100\n",
            "3/3 [==============================] - 0s 15ms/step - loss: 2.5148 - accuracy: 0.2708\n",
            "Epoch 18/100\n",
            "3/3 [==============================] - 0s 15ms/step - loss: 2.4933 - accuracy: 0.2812\n",
            "Epoch 19/100\n",
            "3/3 [==============================] - 0s 21ms/step - loss: 2.4775 - accuracy: 0.2708\n",
            "Epoch 20/100\n",
            "3/3 [==============================] - 0s 15ms/step - loss: 2.4576 - accuracy: 0.2500\n",
            "Epoch 21/100\n",
            "3/3 [==============================] - 0s 15ms/step - loss: 2.4426 - accuracy: 0.2812\n",
            "Epoch 22/100\n",
            "3/3 [==============================] - 0s 15ms/step - loss: 2.4258 - accuracy: 0.3125\n",
            "Epoch 23/100\n",
            "3/3 [==============================] - 0s 19ms/step - loss: 2.4108 - accuracy: 0.3229\n",
            "Epoch 24/100\n",
            "3/3 [==============================] - 0s 15ms/step - loss: 2.3952 - accuracy: 0.3125\n",
            "Epoch 25/100\n",
            "3/3 [==============================] - 0s 19ms/step - loss: 2.3802 - accuracy: 0.3021\n",
            "Epoch 26/100\n",
            "3/3 [==============================] - 0s 17ms/step - loss: 2.3658 - accuracy: 0.3125\n",
            "Epoch 27/100\n",
            "3/3 [==============================] - 0s 15ms/step - loss: 2.3484 - accuracy: 0.3125\n",
            "Epoch 28/100\n",
            "3/3 [==============================] - 0s 15ms/step - loss: 2.3326 - accuracy: 0.3125\n",
            "Epoch 29/100\n",
            "3/3 [==============================] - 0s 16ms/step - loss: 2.3142 - accuracy: 0.3125\n",
            "Epoch 30/100\n",
            "3/3 [==============================] - 0s 15ms/step - loss: 2.2968 - accuracy: 0.3438\n",
            "Epoch 31/100\n",
            "3/3 [==============================] - 0s 21ms/step - loss: 2.2770 - accuracy: 0.3333\n",
            "Epoch 32/100\n",
            "3/3 [==============================] - 0s 14ms/step - loss: 2.2578 - accuracy: 0.3646\n",
            "Epoch 33/100\n",
            "3/3 [==============================] - 0s 15ms/step - loss: 2.2393 - accuracy: 0.3542\n",
            "Epoch 34/100\n",
            "3/3 [==============================] - 0s 21ms/step - loss: 2.2186 - accuracy: 0.3854\n",
            "Epoch 35/100\n",
            "3/3 [==============================] - 0s 15ms/step - loss: 2.1961 - accuracy: 0.3958\n",
            "Epoch 36/100\n",
            "3/3 [==============================] - 0s 17ms/step - loss: 2.1774 - accuracy: 0.3958\n",
            "Epoch 37/100\n",
            "3/3 [==============================] - 0s 15ms/step - loss: 2.1547 - accuracy: 0.4271\n",
            "Epoch 38/100\n",
            "3/3 [==============================] - 0s 15ms/step - loss: 2.1329 - accuracy: 0.4062\n",
            "Epoch 39/100\n",
            "3/3 [==============================] - 0s 16ms/step - loss: 2.1094 - accuracy: 0.4062\n",
            "Epoch 40/100\n",
            "3/3 [==============================] - 0s 14ms/step - loss: 2.0879 - accuracy: 0.4167\n",
            "Epoch 41/100\n",
            "3/3 [==============================] - 0s 15ms/step - loss: 2.0661 - accuracy: 0.4375\n",
            "Epoch 42/100\n",
            "3/3 [==============================] - 0s 15ms/step - loss: 2.0380 - accuracy: 0.4375\n",
            "Epoch 43/100\n",
            "3/3 [==============================] - 0s 15ms/step - loss: 2.0143 - accuracy: 0.4271\n",
            "Epoch 44/100\n",
            "3/3 [==============================] - 0s 15ms/step - loss: 1.9915 - accuracy: 0.4479\n",
            "Epoch 45/100\n",
            "3/3 [==============================] - 0s 15ms/step - loss: 1.9650 - accuracy: 0.4479\n",
            "Epoch 46/100\n",
            "3/3 [==============================] - 0s 17ms/step - loss: 1.9496 - accuracy: 0.4688\n",
            "Epoch 47/100\n",
            "3/3 [==============================] - 0s 15ms/step - loss: 1.9176 - accuracy: 0.4896\n",
            "Epoch 48/100\n",
            "3/3 [==============================] - 0s 15ms/step - loss: 1.8857 - accuracy: 0.4896\n",
            "Epoch 49/100\n",
            "3/3 [==============================] - 0s 15ms/step - loss: 1.8695 - accuracy: 0.5000\n",
            "Epoch 50/100\n",
            "3/3 [==============================] - 0s 14ms/step - loss: 1.8345 - accuracy: 0.5938\n",
            "Epoch 51/100\n",
            "3/3 [==============================] - 0s 15ms/step - loss: 1.8133 - accuracy: 0.6250\n",
            "Epoch 52/100\n",
            "3/3 [==============================] - 0s 14ms/step - loss: 1.7857 - accuracy: 0.6250\n",
            "Epoch 53/100\n",
            "3/3 [==============================] - 0s 20ms/step - loss: 1.7562 - accuracy: 0.6562\n",
            "Epoch 54/100\n",
            "3/3 [==============================] - 0s 17ms/step - loss: 1.7292 - accuracy: 0.6354\n",
            "Epoch 55/100\n",
            "3/3 [==============================] - 0s 18ms/step - loss: 1.6979 - accuracy: 0.6562\n",
            "Epoch 56/100\n",
            "3/3 [==============================] - 0s 16ms/step - loss: 1.6694 - accuracy: 0.6458\n",
            "Epoch 57/100\n",
            "3/3 [==============================] - 0s 15ms/step - loss: 1.6390 - accuracy: 0.6667\n",
            "Epoch 58/100\n",
            "3/3 [==============================] - 0s 16ms/step - loss: 1.6117 - accuracy: 0.6771\n",
            "Epoch 59/100\n",
            "3/3 [==============================] - 0s 15ms/step - loss: 1.5785 - accuracy: 0.6979\n",
            "Epoch 60/100\n",
            "3/3 [==============================] - 0s 16ms/step - loss: 1.5525 - accuracy: 0.7188\n",
            "Epoch 61/100\n",
            "3/3 [==============================] - 0s 15ms/step - loss: 1.5233 - accuracy: 0.7083\n",
            "Epoch 62/100\n",
            "3/3 [==============================] - 0s 15ms/step - loss: 1.4976 - accuracy: 0.7292\n",
            "Epoch 63/100\n",
            "3/3 [==============================] - 0s 16ms/step - loss: 1.4604 - accuracy: 0.7812\n",
            "Epoch 64/100\n",
            "3/3 [==============================] - 0s 16ms/step - loss: 1.4392 - accuracy: 0.7812\n",
            "Epoch 65/100\n",
            "3/3 [==============================] - 0s 21ms/step - loss: 1.3985 - accuracy: 0.8125\n",
            "Epoch 66/100\n",
            "3/3 [==============================] - 0s 16ms/step - loss: 1.3813 - accuracy: 0.7604\n",
            "Epoch 67/100\n",
            "3/3 [==============================] - 0s 15ms/step - loss: 1.3464 - accuracy: 0.7917\n",
            "Epoch 68/100\n",
            "3/3 [==============================] - 0s 15ms/step - loss: 1.3209 - accuracy: 0.7812\n",
            "Epoch 69/100\n",
            "3/3 [==============================] - 0s 15ms/step - loss: 1.2888 - accuracy: 0.8021\n",
            "Epoch 70/100\n",
            "3/3 [==============================] - 0s 15ms/step - loss: 1.2679 - accuracy: 0.7812\n",
            "Epoch 71/100\n",
            "3/3 [==============================] - 0s 17ms/step - loss: 1.2383 - accuracy: 0.7812\n",
            "Epoch 72/100\n",
            "3/3 [==============================] - 0s 18ms/step - loss: 1.2154 - accuracy: 0.7917\n",
            "Epoch 73/100\n",
            "3/3 [==============================] - 0s 16ms/step - loss: 1.1862 - accuracy: 0.8021\n",
            "Epoch 74/100\n",
            "3/3 [==============================] - 0s 15ms/step - loss: 1.1663 - accuracy: 0.7708\n",
            "Epoch 75/100\n",
            "3/3 [==============================] - 0s 18ms/step - loss: 1.1415 - accuracy: 0.8333\n",
            "Epoch 76/100\n",
            "3/3 [==============================] - 0s 16ms/step - loss: 1.1179 - accuracy: 0.8438\n",
            "Epoch 77/100\n",
            "3/3 [==============================] - 0s 16ms/step - loss: 1.0850 - accuracy: 0.8646\n",
            "Epoch 78/100\n",
            "3/3 [==============================] - 0s 15ms/step - loss: 1.0696 - accuracy: 0.8438\n",
            "Epoch 79/100\n",
            "3/3 [==============================] - 0s 14ms/step - loss: 1.0554 - accuracy: 0.8646\n",
            "Epoch 80/100\n",
            "3/3 [==============================] - 0s 15ms/step - loss: 1.0299 - accuracy: 0.8750\n",
            "Epoch 81/100\n",
            "3/3 [==============================] - 0s 16ms/step - loss: 0.9990 - accuracy: 0.8646\n",
            "Epoch 82/100\n",
            "3/3 [==============================] - 0s 16ms/step - loss: 0.9831 - accuracy: 0.8542\n",
            "Epoch 83/100\n",
            "3/3 [==============================] - 0s 15ms/step - loss: 0.9594 - accuracy: 0.8542\n",
            "Epoch 84/100\n",
            "3/3 [==============================] - 0s 17ms/step - loss: 0.9390 - accuracy: 0.8438\n",
            "Epoch 85/100\n",
            "3/3 [==============================] - 0s 15ms/step - loss: 0.9199 - accuracy: 0.8438\n",
            "Epoch 86/100\n",
            "3/3 [==============================] - 0s 15ms/step - loss: 0.8966 - accuracy: 0.8646\n",
            "Epoch 87/100\n",
            "3/3 [==============================] - 0s 15ms/step - loss: 0.8783 - accuracy: 0.9062\n",
            "Epoch 88/100\n",
            "3/3 [==============================] - 0s 15ms/step - loss: 0.8591 - accuracy: 0.9062\n",
            "Epoch 89/100\n",
            "3/3 [==============================] - 0s 16ms/step - loss: 0.8439 - accuracy: 0.9062\n",
            "Epoch 90/100\n",
            "3/3 [==============================] - 0s 21ms/step - loss: 0.8247 - accuracy: 0.9167\n",
            "Epoch 91/100\n",
            "3/3 [==============================] - 0s 15ms/step - loss: 0.8049 - accuracy: 0.9062\n",
            "Epoch 92/100\n",
            "3/3 [==============================] - 0s 15ms/step - loss: 0.7929 - accuracy: 0.9062\n",
            "Epoch 93/100\n",
            "3/3 [==============================] - 0s 15ms/step - loss: 0.7765 - accuracy: 0.9062\n",
            "Epoch 94/100\n",
            "3/3 [==============================] - 0s 15ms/step - loss: 0.7634 - accuracy: 0.9062\n",
            "Epoch 95/100\n",
            "3/3 [==============================] - 0s 15ms/step - loss: 0.7445 - accuracy: 0.9062\n",
            "Epoch 96/100\n",
            "3/3 [==============================] - 0s 15ms/step - loss: 0.7318 - accuracy: 0.9271\n",
            "Epoch 97/100\n",
            "3/3 [==============================] - 0s 15ms/step - loss: 0.7188 - accuracy: 0.9375\n",
            "Epoch 98/100\n",
            "3/3 [==============================] - 0s 15ms/step - loss: 0.7004 - accuracy: 0.9167\n",
            "Epoch 99/100\n",
            "3/3 [==============================] - 0s 15ms/step - loss: 0.6865 - accuracy: 0.9167\n",
            "Epoch 100/100\n",
            "3/3 [==============================] - 0s 16ms/step - loss: 0.6733 - accuracy: 0.9375\n"
          ]
        }
      ]
    },
    {
      "cell_type": "markdown",
      "source": [
        "### Model Analysis"
      ],
      "metadata": {
        "id": "A6rb2LO-aBKE"
      }
    },
    {
      "cell_type": "code",
      "source": [
        "# Membuat fungsi untuk menampilkan plot hasil akurasi dan loss\n",
        "import matplotlib as mpl\n",
        "def draw_plot(data, type_data):\n",
        "  mpl.style.use('seaborn')\n",
        "  plt.figure(figsize = (20, 5))\n",
        "  plt.plot(data,'darkblue', label='Train')\n",
        "  plt.xlabel('Epoch')\n",
        "  plt.ylabel(type_data)\n",
        "  plt.legend()"
      ],
      "metadata": {
        "id": "clr_zICgaHI3"
      },
      "execution_count": null,
      "outputs": []
    },
    {
      "cell_type": "code",
      "source": [
        "draw_plot(train.history['accuracy'], 'training set accuracy')"
      ],
      "metadata": {
        "colab": {
          "base_uri": "https://localhost:8080/",
          "height": 315
        },
        "id": "Cqb8rCWOafKS",
        "outputId": "6336399c-df51-48aa-e82b-a5ff9683a131"
      },
      "execution_count": null,
      "outputs": [
        {
          "output_type": "display_data",
          "data": {
            "text/plain": [
              "<Figure size 1440x360 with 1 Axes>"
            ],
            "image/png": "[encoded data removed]"
          },
          "metadata": {}
        }
      ]
    },
    {
      "cell_type": "code",
      "source": [
        "draw_plot(train.history['loss'], 'training set loss')"
      ],
      "metadata": {
        "colab": {
          "base_uri": "https://localhost:8080/",
          "height": 315
        },
        "id": "wiKAtZoaa2LM",
        "outputId": "77340d24-63f1-4063-ce04-0838058b2005"
      },
      "execution_count": null,
      "outputs": [
        {
          "output_type": "display_data",
          "data": {
            "text/plain": [
              "<Figure size 1440x360 with 1 Axes>"
            ],
            "image/png": "[encoded data removed]"
          },
          "metadata": {}
        }
      ]
    },
    {
      "cell_type": "markdown",
      "source": [
        "### Save Model"
      ],
      "metadata": {
        "id": "Pl59fr-ibKEn"
      }
    },
    {
      "cell_type": "code",
      "source": [
        "model.save('chatbot_model.h5', train)"
      ],
      "metadata": {
        "id": "_FPqHgQNbP2j"
      },
      "execution_count": null,
      "outputs": []
    },
    {
      "cell_type": "markdown",
      "source": [
        "# Testing"
      ],
      "metadata": {
        "id": "vb0liLytbkrc"
      }
    },
    {
      "cell_type": "code",
      "source": [
        "# Membuat percakapan pembuka\n",
        "print(\"Bot : Selamat datang! Silahkan kirim pesan sapaan untuk memulai proses wawancara\")\n",
        "print(\"=\"*60 + \"\\n\")\n",
        "\n",
        "# Membuat Input Chat\n",
        "while True:\n",
        "  # List kosong untuk menampung inputan pengguna\n",
        "  texts_p = []\n",
        "  # Untuk input user\n",
        "  prediction_input = input('User : ')\n",
        "  \n",
        "  # Menghapus punktuasi dan konversi ke huruf kecil\n",
        "  prediction_input = [letters.lower() for letters in prediction_input if letters not in string.punctuation]\n",
        "  prediction_input = ''.join(prediction_input)\n",
        "  texts_p.append(prediction_input)\n",
        "\n",
        "  # Tokenisasi dan Padding\n",
        "  prediction_input = tokenizer.texts_to_sequences(texts_p)\n",
        "  prediction_input = np.array(prediction_input).reshape(-1)\n",
        "  prediction_input = pad_sequences([prediction_input],input_shape)\n",
        "\n",
        "  # Mendapatkan hasil keluaran pada model \n",
        "  output = model.predict(prediction_input)\n",
        "  output = output.argmax()\n",
        "\n",
        "  # Menemukan respon sesuai data tag\n",
        "  response_tag = le.inverse_transform([output])[0]\n",
        "  print(\"Bot : \", random.choice(responses[response_tag]))\n",
        "  print(\"=\"*60 + \"\\n\")\n",
        "\n",
        "  # mendefinisikan respon tag 'penutup' agar bot bisa berhenti\n",
        "  if response_tag == \"penutup\":\n",
        "    break    \n",
        "    \n"
      ],
      "metadata": {
        "colab": {
          "base_uri": "https://localhost:8080/",
          "height": 799
        },
        "id": "mom8FpuObotp",
        "outputId": "a8bb9d48-e67e-43b1-9c58-5b3ab5ca77ea"
      },
      "execution_count": null,
      "outputs": [
        {
          "output_type": "stream",
          "name": "stdout",
          "text": [
            "Bot : Selamat datang! Silahkan kirim pesan sapaan untuk memulai proses wawancara\n",
            "============================================================\n",
            "\n",
            "User : hailo\n",
            "1/1 [==============================] - 0s 497ms/step\n",
            "Bot :  Halo, Silahkan perkenalkan diri anda dengan format sebagai berikut: Perkenalkan nama lengkap saya adalah ... (isi titik - titik sesuai data anda) \n",
            "============================================================\n",
            "\n",
            "User : perkenalkan nama lengkap saya alwizain\n",
            "1/1 [==============================] - 0s 19ms/step\n",
            "Bot :  Ceritakan pengalaman kerja Anda dengan format sebagai berikut: Saya memiliki pengalaman kerja di ... selama ... tahun (isi titik - titik sesuai data anda). Jika anda belum memiliki pengalaman kerja, anda bisa mengisi dengan format : saya belum memiliki pengalaman kerja\n",
            "============================================================\n",
            "\n",
            "User : bye\n",
            "1/1 [==============================] - 0s 20ms/step\n",
            "Bot :  Halo, Silahkan perkenalkan diri anda dengan format sebagai berikut: Perkenalkan nama lengkap saya adalah ... (isi titik - titik sesuai data anda) \n",
            "============================================================\n",
            "\n",
            "User : terimakasih\n",
            "1/1 [==============================] - 0s 20ms/step\n",
            "Bot :  Halo, Silahkan perkenalkan diri anda dengan format sebagai berikut: Perkenalkan nama lengkap saya adalah ... (isi titik - titik sesuai data anda) \n",
            "============================================================\n",
            "\n"
          ]
        },
        {
          "output_type": "error",
          "ename": "KeyboardInterrupt",
          "evalue": "ignored",
          "traceback": [
            "\u001b[0;31m---------------------------------------------------------------------------\u001b[0m",
            "\u001b[0;31mKeyboardInterrupt\u001b[0m                         Traceback (most recent call last)",
            "\u001b[0;32m<ipython-input-26-d2c1e193ba75>\u001b[0m in \u001b[0;36m<module>\u001b[0;34m\u001b[0m\n\u001b[1;32m      8\u001b[0m   \u001b[0mtexts_p\u001b[0m \u001b[0;34m=\u001b[0m \u001b[0;34m[\u001b[0m\u001b[0;34m]\u001b[0m\u001b[0;34m\u001b[0m\u001b[0;34m\u001b[0m\u001b[0m\n\u001b[1;32m      9\u001b[0m   \u001b[0;31m# Untuk input user\u001b[0m\u001b[0;34m\u001b[0m\u001b[0;34m\u001b[0m\u001b[0;34m\u001b[0m\u001b[0m\n\u001b[0;32m---> 10\u001b[0;31m   \u001b[0mprediction_input\u001b[0m \u001b[0;34m=\u001b[0m \u001b[0minput\u001b[0m\u001b[0;34m(\u001b[0m\u001b[0;34m'User : '\u001b[0m\u001b[0;34m)\u001b[0m\u001b[0;34m\u001b[0m\u001b[0;34m\u001b[0m\u001b[0m\n\u001b[0m\u001b[1;32m     11\u001b[0m \u001b[0;34m\u001b[0m\u001b[0m\n\u001b[1;32m     12\u001b[0m   \u001b[0;31m# Menghapus punktuasi dan konversi ke huruf kecil\u001b[0m\u001b[0;34m\u001b[0m\u001b[0;34m\u001b[0m\u001b[0;34m\u001b[0m\u001b[0m\n",
            "\u001b[0;32m/usr/local/lib/python3.8/dist-packages/ipykernel/kernelbase.py\u001b[0m in \u001b[0;36mraw_input\u001b[0;34m(self, prompt)\u001b[0m\n\u001b[1;32m    858\u001b[0m                 \u001b[0;34m\"raw_input was called, but this frontend does not support input requests.\"\u001b[0m\u001b[0;34m\u001b[0m\u001b[0;34m\u001b[0m\u001b[0m\n\u001b[1;32m    859\u001b[0m             )\n\u001b[0;32m--> 860\u001b[0;31m         return self._input_request(str(prompt),\n\u001b[0m\u001b[1;32m    861\u001b[0m             \u001b[0mself\u001b[0m\u001b[0;34m.\u001b[0m\u001b[0m_parent_ident\u001b[0m\u001b[0;34m,\u001b[0m\u001b[0;34m\u001b[0m\u001b[0;34m\u001b[0m\u001b[0m\n\u001b[1;32m    862\u001b[0m             \u001b[0mself\u001b[0m\u001b[0;34m.\u001b[0m\u001b[0m_parent_header\u001b[0m\u001b[0;34m,\u001b[0m\u001b[0;34m\u001b[0m\u001b[0;34m\u001b[0m\u001b[0m\n",
            "\u001b[0;32m/usr/local/lib/python3.8/dist-packages/ipykernel/kernelbase.py\u001b[0m in \u001b[0;36m_input_request\u001b[0;34m(self, prompt, ident, parent, password)\u001b[0m\n\u001b[1;32m    902\u001b[0m             \u001b[0;32mexcept\u001b[0m \u001b[0mKeyboardInterrupt\u001b[0m\u001b[0;34m:\u001b[0m\u001b[0;34m\u001b[0m\u001b[0;34m\u001b[0m\u001b[0m\n\u001b[1;32m    903\u001b[0m                 \u001b[0;31m# re-raise KeyboardInterrupt, to truncate traceback\u001b[0m\u001b[0;34m\u001b[0m\u001b[0;34m\u001b[0m\u001b[0;34m\u001b[0m\u001b[0m\n\u001b[0;32m--> 904\u001b[0;31m                 \u001b[0;32mraise\u001b[0m \u001b[0mKeyboardInterrupt\u001b[0m\u001b[0;34m(\u001b[0m\u001b[0;34m\"Interrupted by user\"\u001b[0m\u001b[0;34m)\u001b[0m \u001b[0;32mfrom\u001b[0m \u001b[0;32mNone\u001b[0m\u001b[0;34m\u001b[0m\u001b[0;34m\u001b[0m\u001b[0m\n\u001b[0m\u001b[1;32m    905\u001b[0m             \u001b[0;32mexcept\u001b[0m \u001b[0mException\u001b[0m \u001b[0;32mas\u001b[0m \u001b[0me\u001b[0m\u001b[0;34m:\u001b[0m\u001b[0;34m\u001b[0m\u001b[0;34m\u001b[0m\u001b[0m\n\u001b[1;32m    906\u001b[0m                 \u001b[0mself\u001b[0m\u001b[0;34m.\u001b[0m\u001b[0mlog\u001b[0m\u001b[0;34m.\u001b[0m\u001b[0mwarning\u001b[0m\u001b[0;34m(\u001b[0m\u001b[0;34m\"Invalid Message:\"\u001b[0m\u001b[0;34m,\u001b[0m \u001b[0mexc_info\u001b[0m\u001b[0;34m=\u001b[0m\u001b[0;32mTrue\u001b[0m\u001b[0;34m)\u001b[0m\u001b[0;34m\u001b[0m\u001b[0;34m\u001b[0m\u001b[0m\n",
            "\u001b[0;31mKeyboardInterrupt\u001b[0m: Interrupted by user"
          ]
        }
      ]
    }
  ]
}